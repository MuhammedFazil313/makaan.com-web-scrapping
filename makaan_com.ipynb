{
  "nbformat": 4,
  "nbformat_minor": 0,
  "metadata": {
    "colab": {
      "name": "makaan.com.ipynb",
      "provenance": [],
      "toc_visible": true,
      "authorship_tag": "ABX9TyNPeYol25A4CFLlkravpwzX",
      "include_colab_link": true
    },
    "kernelspec": {
      "name": "python3",
      "display_name": "Python 3"
    },
    "language_info": {
      "name": "python"
    }
  },
  "cells": [
    {
      "cell_type": "markdown",
      "metadata": {
        "id": "view-in-github",
        "colab_type": "text"
      },
      "source": [
        "<a href=\"https://colab.research.google.com/github/MuhammedFazil313/makaan.com-web-scrapping/blob/main/makaan_com.ipynb\" target=\"_parent\"><img src=\"https://colab.research.google.com/assets/colab-badge.svg\" alt=\"Open In Colab\"/></a>"
      ]
    },
    {
      "cell_type": "code",
      "metadata": {
        "id": "zWIJCDdLLDod"
      },
      "source": [
        "import requests\n",
        "from bs4 import BeautifulSoup\n",
        "import pandas as pd\n",
        "import time"
      ],
      "execution_count": 1,
      "outputs": []
    },
    {
      "cell_type": "code",
      "metadata": {
        "id": "QgzGVIiALPT-"
      },
      "source": [
        "base_url = 'https://www.makaan.com/hyderabad-residential-property/buy-property-in-hyderabad-city?page='"
      ],
      "execution_count": 3,
      "outputs": []
    },
    {
      "cell_type": "code",
      "metadata": {
        "id": "acNmesHVLUlc"
      },
      "source": [
        "ow = []\n",
        "stype = []\n",
        "bhk = []\n",
        "p = []\n",
        "s = []\n",
        "loc = []\n",
        "st = []\n",
        "pps = []"
      ],
      "execution_count": 4,
      "outputs": []
    },
    {
      "cell_type": "code",
      "metadata": {
        "id": "4ynyb3KPLdPt"
      },
      "source": [
        "for i in range(1,51):\n",
        "  time.sleep(3)   # to give a pause between each requests\n",
        "  url = base_url+str(i)\n",
        "  req = requests.get(url)\n",
        "  soup = BeautifulSoup(req.text,'html')\n",
        "\n",
        "  #owner info\n",
        "  ow_info = soup.findAll('div',attrs={'class':'seller-info'})\n",
        "  for j in ow_info:\n",
        "    ow.append(j.a.span.text)\n",
        "  \n",
        "  #seller type\n",
        "  s_typ = soup.findAll('span',attrs={'class':'seller-type'})\n",
        "  for j in s_typ:\n",
        "    stype.append(j.text)\n",
        "  \n",
        "  #bhk info\n",
        "  bhk_info = soup.findAll('div',attrs={'class':'title-line'})\n",
        "  for j in bhk_info:\n",
        "    bhk.append(j.strong.span.text)\n",
        "\n",
        "  #price info\n",
        "  p_info = soup.findAll('div',attrs={'data-type':'price-link'})\n",
        "  for  j in p_info:\n",
        "    p.append(j.text)\n",
        "  \n",
        "  #size info\n",
        "  s_info = soup.findAll(\"td\",attrs={'class':'size'})\n",
        "  for j in s_info:\n",
        "    s.append(j.text)\n",
        "  \n",
        "  #location info\n",
        "  loc_info = soup.findAll('span',attrs={'itemprop':'addressLocality'})\n",
        "  for j in loc_info:\n",
        "    loc.append(j.text)\n",
        "  \n",
        "  #status info\n",
        "  st_info = soup.findAll('tr',attrs={'class':'hcol w44'})\n",
        "  for j in st_info:\n",
        "    st.append(j.text)\n",
        "\n",
        "  #price per sqft info\n",
        "  pps_info = soup.findAll('td',attrs={'class':'lbl rate'})\n",
        "  for j in pps_info:\n",
        "    pps.append(j.text)"
      ],
      "execution_count": 6,
      "outputs": []
    },
    {
      "cell_type": "code",
      "metadata": {
        "colab": {
          "base_uri": "https://localhost:8080/"
        },
        "id": "i0Z2YS_zPIFM",
        "outputId": "58adbd47-11ed-4f0f-aeab-655d0c5e201c"
      },
      "source": [
        "print('ow = ',len(ow))\n",
        "print('st = ',len(stype))\n",
        "print('bhk = ',len(bhk))\n",
        "print('p = ',len(p))\n",
        "print('s = ',len(s))\n",
        "print('loc = ',len(loc))\n",
        "print('st = ',len(st))\n",
        "print('pps = ',len(pps))"
      ],
      "execution_count": 7,
      "outputs": [
        {
          "output_type": "stream",
          "text": [
            "ow =  2000\n",
            "st =  2000\n",
            "bhk =  2000\n",
            "p =  2000\n",
            "s =  2000\n",
            "loc =  2000\n",
            "st =  2000\n",
            "pps =  2000\n"
          ],
          "name": "stdout"
        }
      ]
    },
    {
      "cell_type": "code",
      "metadata": {
        "colab": {
          "base_uri": "https://localhost:8080/",
          "height": 555
        },
        "id": "hg41-r17PMOQ",
        "outputId": "3af53170-df0e-4abe-abdd-dd818beb02b0"
      },
      "source": [
        "data = pd.DataFrame({'SELLER INFO':ow,\n",
        "                     'SELLER TYPE':stype,\n",
        "                     'BHK':bhk,\n",
        "                     'PRICE':p,\n",
        "                     'Area in sqft':s,\n",
        "                     'LOCATION':loc,\n",
        "                     'STATUS':st,\n",
        "                     'PRICE PER SQ.FT':pps})\n",
        "data "
      ],
      "execution_count": 8,
      "outputs": [
        {
          "output_type": "execute_result",
          "data": {
            "text/html": [
              "<div>\n",
              "<style scoped>\n",
              "    .dataframe tbody tr th:only-of-type {\n",
              "        vertical-align: middle;\n",
              "    }\n",
              "\n",
              "    .dataframe tbody tr th {\n",
              "        vertical-align: top;\n",
              "    }\n",
              "\n",
              "    .dataframe thead th {\n",
              "        text-align: right;\n",
              "    }\n",
              "</style>\n",
              "<table border=\"1\" class=\"dataframe\">\n",
              "  <thead>\n",
              "    <tr style=\"text-align: right;\">\n",
              "      <th></th>\n",
              "      <th>SELLER INFO</th>\n",
              "      <th>SELLER TYPE</th>\n",
              "      <th>BHK</th>\n",
              "      <th>PRICE</th>\n",
              "      <th>Area in sqft</th>\n",
              "      <th>LOCATION</th>\n",
              "      <th>STATUS</th>\n",
              "      <th>PRICE PER SQ.FT</th>\n",
              "    </tr>\n",
              "  </thead>\n",
              "  <tbody>\n",
              "    <tr>\n",
              "      <th>0</th>\n",
              "      <td>user</td>\n",
              "      <td>BUILDER</td>\n",
              "      <td>2</td>\n",
              "      <td>42.88 L</td>\n",
              "      <td>1340</td>\n",
              "      <td>Nandikandi</td>\n",
              "      <td>Under ConstructionConstruction Status</td>\n",
              "      <td>3,200 / sq ft</td>\n",
              "    </tr>\n",
              "    <tr>\n",
              "      <th>1</th>\n",
              "      <td>Riddhi Group</td>\n",
              "      <td>BUILDER</td>\n",
              "      <td>4</td>\n",
              "      <td>1.83 Cr</td>\n",
              "      <td>3059</td>\n",
              "      <td>Upperpally</td>\n",
              "      <td>Under ConstructionConstruction Status</td>\n",
              "      <td>6,000 / sq ft</td>\n",
              "    </tr>\n",
              "    <tr>\n",
              "      <th>2</th>\n",
              "      <td>Swamaan Developers</td>\n",
              "      <td>BUILDER</td>\n",
              "      <td>3</td>\n",
              "      <td>95.7 L</td>\n",
              "      <td>1709</td>\n",
              "      <td>Narsingi</td>\n",
              "      <td>Ready to moveConstruction Status</td>\n",
              "      <td>5,600 / sq ft</td>\n",
              "    </tr>\n",
              "    <tr>\n",
              "      <th>3</th>\n",
              "      <td>Ramireddy Constructions</td>\n",
              "      <td>BUILDER</td>\n",
              "      <td>2</td>\n",
              "      <td>96 L</td>\n",
              "      <td>1173</td>\n",
              "      <td>Attapur</td>\n",
              "      <td>Under ConstructionConstruction Status</td>\n",
              "      <td>8,184 / sq ft</td>\n",
              "    </tr>\n",
              "    <tr>\n",
              "      <th>4</th>\n",
              "      <td>Anuhar Homes Pvt Ltd</td>\n",
              "      <td>BUILDER</td>\n",
              "      <td>3</td>\n",
              "      <td>93.25 L</td>\n",
              "      <td>1636</td>\n",
              "      <td>Manikonda</td>\n",
              "      <td>Ready to moveConstruction Status</td>\n",
              "      <td>5,700 / sq ft</td>\n",
              "    </tr>\n",
              "    <tr>\n",
              "      <th>...</th>\n",
              "      <td>...</td>\n",
              "      <td>...</td>\n",
              "      <td>...</td>\n",
              "      <td>...</td>\n",
              "      <td>...</td>\n",
              "      <td>...</td>\n",
              "      <td>...</td>\n",
              "      <td>...</td>\n",
              "    </tr>\n",
              "    <tr>\n",
              "      <th>1995</th>\n",
              "      <td>seller</td>\n",
              "      <td>OWNER</td>\n",
              "      <td>2</td>\n",
              "      <td>72 L</td>\n",
              "      <td>1550</td>\n",
              "      <td>Godumakunta</td>\n",
              "      <td>Ready to moveConstruction Status</td>\n",
              "      <td>4,645 / sq ft</td>\n",
              "    </tr>\n",
              "    <tr>\n",
              "      <th>1996</th>\n",
              "      <td>seller</td>\n",
              "      <td>OWNER</td>\n",
              "      <td>2</td>\n",
              "      <td>80 L</td>\n",
              "      <td>1126</td>\n",
              "      <td>Kukatpally</td>\n",
              "      <td>Ready to moveConstruction Status</td>\n",
              "      <td>7,104 / sq ft</td>\n",
              "    </tr>\n",
              "    <tr>\n",
              "      <th>1997</th>\n",
              "      <td>seller</td>\n",
              "      <td>OWNER</td>\n",
              "      <td>2</td>\n",
              "      <td>40.84 L</td>\n",
              "      <td>1021</td>\n",
              "      <td>Chandanagar</td>\n",
              "      <td>Under ConstructionConstruction Status</td>\n",
              "      <td>4,000 / sq ft</td>\n",
              "    </tr>\n",
              "    <tr>\n",
              "      <th>1998</th>\n",
              "      <td>seller</td>\n",
              "      <td>OWNER</td>\n",
              "      <td>Residential Plot</td>\n",
              "      <td>80 L</td>\n",
              "      <td>2925</td>\n",
              "      <td>Shamirpet</td>\n",
              "      <td>ResaleNew/Resale</td>\n",
              "      <td>2,735 / sq ft</td>\n",
              "    </tr>\n",
              "    <tr>\n",
              "      <th>1999</th>\n",
              "      <td>seller</td>\n",
              "      <td>OWNER</td>\n",
              "      <td>Residential Plot</td>\n",
              "      <td>35 L</td>\n",
              "      <td>3285</td>\n",
              "      <td>Gollur</td>\n",
              "      <td>ResaleNew/Resale</td>\n",
              "      <td>1,065 / sq ft</td>\n",
              "    </tr>\n",
              "  </tbody>\n",
              "</table>\n",
              "<p>2000 rows × 8 columns</p>\n",
              "</div>"
            ],
            "text/plain": [
              "                  SELLER INFO  ... PRICE PER SQ.FT\n",
              "0                        user  ...   3,200 / sq ft\n",
              "1                Riddhi Group  ...   6,000 / sq ft\n",
              "2          Swamaan Developers  ...   5,600 / sq ft\n",
              "3     Ramireddy Constructions  ...   8,184 / sq ft\n",
              "4        Anuhar Homes Pvt Ltd  ...   5,700 / sq ft\n",
              "...                       ...  ...             ...\n",
              "1995                   seller  ...   4,645 / sq ft\n",
              "1996                   seller  ...   7,104 / sq ft\n",
              "1997                   seller  ...   4,000 / sq ft\n",
              "1998                   seller  ...   2,735 / sq ft\n",
              "1999                   seller  ...   1,065 / sq ft\n",
              "\n",
              "[2000 rows x 8 columns]"
            ]
          },
          "metadata": {
            "tags": []
          },
          "execution_count": 8
        }
      ]
    },
    {
      "cell_type": "code",
      "metadata": {
        "id": "9hMFZaxZPTBg"
      },
      "source": [
        "data.to_csv('50 pages of real estate details from makaan.csv',index=False)"
      ],
      "execution_count": 9,
      "outputs": []
    }
  ]
}